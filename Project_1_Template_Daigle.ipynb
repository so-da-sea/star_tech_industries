{
  "cells": [
    {
      "cell_type": "markdown",
      "metadata": {
        "id": "view-in-github",
        "colab_type": "text"
      },
      "source": [
        "<a href=\"https://colab.research.google.com/github/so-da-sea/star_tech_industries/blob/master/Project_1_Template_Daigle.ipynb\" target=\"_parent\"><img src=\"https://colab.research.google.com/assets/colab-badge.svg\" alt=\"Open In Colab\"/></a>"
      ]
    },
    {
      "cell_type": "markdown",
      "metadata": {
        "id": "cPv6GlBJky4_"
      },
      "source": [
        "# Startup Lending Model (Probabalistic Loan Pricing)\n",
        "\n",
        "- [**Setup**](#Setup): Runs any imports and other setup\n",
        "- [**Inputs**](#Inputs): Defines the inputs for the model"
      ]
    },
    {
      "cell_type": "markdown",
      "metadata": {
        "id": "DEs_8nukky5B"
      },
      "source": [
        "## Setup\n",
        "\n",
        "Setup for the later calculations are here. The necessary packages are imported."
      ]
    },
    {
      "cell_type": "code",
      "source": [
        "!pip install numpy-financial -q"
      ],
      "metadata": {
        "id": "6mvFPo3q_Qs-"
      },
      "execution_count": 1,
      "outputs": []
    },
    {
      "cell_type": "code",
      "execution_count": 2,
      "metadata": {
        "id": "atgHvZXiky5C"
      },
      "outputs": [],
      "source": [
        "from dataclasses import dataclass\n",
        "import pandas as pd\n",
        "%matplotlib inline\n",
        "import numpy as np #supports large arrays\n",
        "import numpy_financial as npf #supports fin calcs\n",
        "import matplotlib.pyplot as plt #plotting\n",
        "from tqdm.notebook import tqdm #progress bar\n",
        "import random #pseudo-random number generator"
      ]
    },
    {
      "cell_type": "markdown",
      "metadata": {
        "id": "JAn0hlH9ky5D"
      },
      "source": [
        "## Inputs\n",
        "\n",
        "All of the inputs for the model are defined here. A class is constructed to manage the data, and an instance of the class containing the default inputs is created."
      ]
    },
    {
      "cell_type": "code",
      "execution_count": 3,
      "metadata": {
        "id": "1YPpvtFrky5D",
        "outputId": "221229a4-5be4-4f3a-fe0d-63c8d0e76004",
        "colab": {
          "base_uri": "https://localhost:8080/"
        }
      },
      "outputs": [
        {
          "output_type": "execute_result",
          "data": {
            "text/plain": [
              "ModelInputs(price_machine=1000000, loan_life=5, initial_default=0.3, default_decay=0.9, final_default=0.4, recovery_rate=0.4, num_iterations=1000)"
            ]
          },
          "metadata": {},
          "execution_count": 3
        }
      ],
      "source": [
        "@dataclass\n",
        "class ModelInputs:\n",
        "    price_machine: float = 1000000\n",
        "    loan_life: int = 5\n",
        "    initial_default: float = 0.3\n",
        "    default_decay: float = 0.9\n",
        "    final_default: float = 0.4\n",
        "    recovery_rate: float = 0.4\n",
        "    num_iterations: int = 1000\n",
        "\n",
        "model_data = ModelInputs()\n",
        "#creating the class and setting default inputs for model_data\n",
        "\n",
        "model_data"
      ]
    },
    {
      "cell_type": "markdown",
      "source": [
        "STEPS:\n",
        "*   yearly interest rate\n",
        "*   yearly cash flows (append if default does/does not occur)\n",
        "*   discrete simulation\n",
        "*   expected IRR and visualizations\n"
      ],
      "metadata": {
        "id": "DS_gxbhS-Ibo"
      }
    },
    {
      "cell_type": "markdown",
      "source": [
        "### Yearly Default Rates\n",
        "\n",
        "The default rates over time evolves by the following equation:\n",
        "\n",
        "$$\n",
        "d_t = \\begin{cases}\n",
        "d_1 & t = 1 \\\\\n",
        "d_{t-1} d_d & 1 < t < n\\\\\n",
        "d_n & t = n \\\\\n",
        "0 & t > n\n",
        "\\end{cases}\n",
        "$$\n",
        "\n",
        "Where:\n",
        "\n",
        "- $t$: The current year, starting with 1 for the first loan payment\n",
        "- $d_t$: The default rate for year $t$\n",
        "- $d_1$: The initial, first year default rate\n",
        "- $d_d$: The decay rate of the probability of default\n",
        "- $d_n$: The final year probability of default\n",
        "- $n$: The life of the loan\n",
        "\n",
        "In other words, there is an initial given probability of default in the first year, then it decays at the decay rate each year, up until the final repayment year which has a separate default probability because of the larger loan payment to pay back the principal.\n",
        "\n",
        "By solving the middle time-series equation, we can create an equation which does not depend on the prior year:\n",
        "\n",
        "$$d_2 = d_1 d_d$$\n",
        "$$d_3 = d_2 d_d$$\n",
        "$$d_3 = d_1 d_d ^ 2$$\n",
        "$$d_4 = d_3 d_d$$\n",
        "$$d_4 = d_1 d_d ^ 3$$\n",
        "\n",
        "Following this pattern, therefore:\n",
        "\n",
        "$$d_t = d_1 d_d^{t - 1}$$\n",
        "\n",
        "And so the overall equation becomes:\n",
        "\n",
        "\n",
        "$$\n",
        "d_t = \\begin{cases}\n",
        "d_1 & t = 1\\\\\n",
        "d_1 d_d^{t - 1} & 1 < t < n\\\\\n",
        "d_n & t = n \\\\\n",
        "0 & t > n\n",
        "\\end{cases}\n",
        "$$"
      ],
      "metadata": {
        "id": "SOrXn048k05P"
      }
    },
    {
      "cell_type": "code",
      "source": [
        "def calc_annual_int_rate(principal,rate):\n",
        "  \"\"\"Calculates annual int payment\"\"\"\n",
        "  return principal*rate\n"
      ],
      "metadata": {
        "id": "WFi0RCwWCwNX"
      },
      "execution_count": 4,
      "outputs": []
    },
    {
      "cell_type": "code",
      "source": [
        "def calc_CF(data, interest_rate, default_year):\n",
        "  cash_flows= [-data.price_machine] #initial outflow for the bank\n",
        " #calc initial payments\n",
        "  for year in range(1, data.loan_life):\n",
        "    if year < default_year:\n",
        "      #each yrs payment\n",
        "      cash_flows.append(data.price_machine * interest_rate)\n",
        "    elif year == default_year:\n",
        "      #cash_flows.append(0)\n",
        "      break #exits for loop\n",
        "\n",
        "  #handle the recovery payment\n",
        "  if default_year <= data.loan_life:\n",
        "    cash_flows.extend([0,0]) #adds two yrs of no CF for the bankruptcy period\n",
        "    cash_flows.append(data.recovery_rate*data.price_machine)\n",
        "\n",
        "#default deos not occur within the loan life\n",
        "  else:\n",
        "    cash_flows.append(data.price_machine * (1+ interest_rate))\n",
        "\n",
        "  return cash_flows"
      ],
      "metadata": {
        "id": "_zo8xrtbC8uy"
      },
      "execution_count": 5,
      "outputs": []
    },
    {
      "cell_type": "code",
      "source": [
        "#example w default params\n",
        "example_interest_rate = .35\n",
        "example_default_year=6\n",
        "example_cash_flows = calc_CF(model_data, example_interest_rate, example_default_year)\n",
        "\n",
        "example_cash_flows"
      ],
      "metadata": {
        "colab": {
          "base_uri": "https://localhost:8080/"
        },
        "id": "gCWKiP1ARI7g",
        "outputId": "d5867230-9597-46ca-b2fd-fe2cdf06df04"
      },
      "execution_count": 6,
      "outputs": [
        {
          "output_type": "execute_result",
          "data": {
            "text/plain": [
              "[-1000000, 350000.0, 350000.0, 350000.0, 350000.0, 1350000.0]"
            ]
          },
          "metadata": {},
          "execution_count": 6
        }
      ]
    },
    {
      "cell_type": "code",
      "source": [
        "#probability of default\n",
        "def default_prob_at_year(data,year):\n",
        "  \"\"\"\n",
        "  calc prob of default at a given year\n",
        "  \"\"\"\n",
        "  #finding where in the timeline you are defaulting first\n",
        "  if year ==1:\n",
        "    return data.initial_default\n",
        "  elif year< data.loan_life:\n",
        "    return data.initial_default *(data.default_decay ** (year-1))\n",
        "  else: #for the final year\n",
        "    return data.final_default"
      ],
      "metadata": {
        "id": "Uzww8E7LSmST"
      },
      "execution_count": 24,
      "outputs": []
    },
    {
      "cell_type": "code",
      "source": [
        "#incorproating internal randomness\n",
        "#most complex function\n",
        "def get_rand_default_year(data):\n",
        "  \"\"\"\n",
        "  returns a random yr of default\n",
        "  \"\"\"\n",
        "  probs= [default_prob_at_year(data,year)for year in range (1, data.loan_life)]\n",
        "  probs.append(data.final_default)\n",
        "  cumulative_probs= np.cumsum(probs)\n",
        "  rand_val= random.uniform(0,1)\n",
        "\n",
        "  #for loop to work through each yr of the loan\n",
        "  for year, cum_prob in enumerate(cumulative_probs,1): #takes two vals and compares them\n",
        "    if rand_val <= cum_prob: #if rand var is less than cum_prob of default\n",
        "      return year\n",
        "    else:\n",
        "      return data.loan_life #indicate no default\n"
      ],
      "metadata": {
        "id": "VSgWi5nKTMaH"
      },
      "execution_count": 8,
      "outputs": []
    },
    {
      "cell_type": "code",
      "source": [
        "from typing import List\n",
        "\n",
        "#simulate loan scenarios\n",
        "\n",
        "def simulate_loan_scenarios(\n",
        "    data,\n",
        "    interest_rates : List[float] ,\n",
        "    loan_lives : List[float],\n",
        "    initial_defaults : List[float]\n",
        "    ):\n",
        "  \"\"\"\n",
        "  get\n",
        "  \"\"\"\n",
        "\n",
        "  # final output\n",
        "  scenarios_results = []\n",
        "\n",
        "  total_iterations= 27000\n",
        "\n",
        "  #progress bar\n",
        "  with tqdm(total=total_iterations, desc=\"Simulating Loan Scenarios\") as pbar:\n",
        "\n",
        "    # iterate all combinations\n",
        "    for rate in interest_rates:\n",
        "      for life in loan_lives:\n",
        "        for initial_default in initial_defaults:\n",
        "\n",
        "          #goal\n",
        "          irrs=[]\n",
        "\n",
        "          data.loan_life = life #update loan life per scenario\n",
        "          data.initial_default = initial_default #updating\n",
        "          interest_rate = rate\n",
        "\n",
        "          # this is import to do 1000 times\n",
        "          for _ in range(model_data.num_iterations):\n",
        "\n",
        "              default_year = get_rand_default_year(data) #calling back to prev created function for a rand default yr\n",
        "              cash_flows= calc_CF(data, interest_rate, default_year)\n",
        "\n",
        "              try:\n",
        "                irr = npf.irr(cash_flows)\n",
        "                irrs.append(irr)\n",
        "              except:\n",
        "                  pass #skip iterations where IRR cannot be calculated\n",
        "              finally:\n",
        "                pbar.update(1)\n",
        "\n",
        "          # get irr output for combination\n",
        "          expected_irr = np.mean(irrs) if irrs else None\n",
        "\n",
        "          # append irr to goal list\n",
        "          scenarios_results.append({\n",
        "              \"interest rate\":rate,\n",
        "              \"loan life\": life,\n",
        "              \"initial deafult probability\": initial_default,\n",
        "              \"expected IRR\": expected_irr\n",
        "          })\n",
        "  return pd.DataFrame(scenarios_results)"
      ],
      "metadata": {
        "id": "UJM5LVfMVWWq"
      },
      "execution_count": 33,
      "outputs": []
    },
    {
      "cell_type": "code",
      "source": [
        "#params\n",
        "interest_rates = [.30,.35,.40]\n",
        "loan_lives = [5,10,20]\n",
        "initial_defaults = [.1,.2,.3]"
      ],
      "metadata": {
        "id": "1dSgONyQkZSm"
      },
      "execution_count": 34,
      "outputs": []
    },
    {
      "cell_type": "code",
      "source": [
        "model_data.num_interations = 1000"
      ],
      "metadata": {
        "id": "HZAHealwkm5u"
      },
      "execution_count": 35,
      "outputs": []
    },
    {
      "cell_type": "code",
      "source": [
        "df_discrete = simulate_loan_scenarios (model_data, interest_rates, loan_lives, initial_defaults)"
      ],
      "metadata": {
        "id": "WPm-YqVokrdG",
        "colab": {
          "base_uri": "https://localhost:8080/",
          "height": 49,
          "referenced_widgets": [
            "718b95d638d24c4f84058202d1a0a298",
            "fd47fae4848345beac0ef398b15b2dce",
            "414bfc38b07a47da9346c985244f932c",
            "f52391b26a9543fa8e514a7a390d073f",
            "eb23684530bd4c70bed969a905c9abb6",
            "0b6662f869d14852a6475e235270e5f1",
            "3b60a581058748e59938d91389ddd802",
            "02c35239a46d4b74b76987320d64c7df",
            "96495f1b065d42f994bcb8a363b78374",
            "dd21842744104e04aae47f8df3bd1b46",
            "3e25d300272f467d9f8387541398be8c"
          ]
        },
        "outputId": "03e056e7-66fe-44c9-d4cd-f7c8456bb42c"
      },
      "execution_count": 36,
      "outputs": [
        {
          "output_type": "display_data",
          "data": {
            "text/plain": [
              "Simulating Loan Scenarios:   0%|          | 0/27000 [00:00<?, ?it/s]"
            ],
            "application/vnd.jupyter.widget-view+json": {
              "version_major": 2,
              "version_minor": 0,
              "model_id": "718b95d638d24c4f84058202d1a0a298"
            }
          },
          "metadata": {}
        }
      ]
    },
    {
      "cell_type": "code",
      "source": [
        "df_discrete"
      ],
      "metadata": {
        "id": "e-h2KWDmk3QA",
        "colab": {
          "base_uri": "https://localhost:8080/",
          "height": 895
        },
        "outputId": "9c7d13cc-d877-48d6-daf2-5180901af495"
      },
      "execution_count": 37,
      "outputs": [
        {
          "output_type": "execute_result",
          "data": {
            "text/plain": [
              "    interest rate  loan life  initial deafult probability  expected IRR\n",
              "0            0.30          5                          0.1      0.116435\n",
              "1            0.30          5                          0.2      0.065291\n",
              "2            0.30          5                          0.3      0.023710\n",
              "3            0.30         10                          0.1      0.215944\n",
              "4            0.30         10                          0.2      0.172094\n",
              "5            0.30         10                          0.3      0.114876\n",
              "6            0.30         20                          0.1      0.237639\n",
              "7            0.30         20                          0.2      0.182053\n",
              "8            0.30         20                          0.3      0.136574\n",
              "9            0.35          5                          0.1      0.167570\n",
              "10           0.35          5                          0.2      0.113431\n",
              "11           0.35          5                          0.3      0.068706\n",
              "12           0.35         10                          0.1      0.271475\n",
              "13           0.35         10                          0.2      0.205969\n",
              "14           0.35         10                          0.3      0.146365\n",
              "15           0.35         20                          0.1      0.285338\n",
              "16           0.35         20                          0.2      0.222282\n",
              "17           0.35         20                          0.3      0.185550\n",
              "18           0.40          5                          0.1      0.223563\n",
              "19           0.40          5                          0.2      0.159821\n",
              "20           0.40          5                          0.3      0.106615\n",
              "21           0.40         10                          0.1      0.312350\n",
              "22           0.40         10                          0.2      0.247255\n",
              "23           0.40         10                          0.3      0.184093\n",
              "24           0.40         20                          0.1      0.333162\n",
              "25           0.40         20                          0.2      0.282140\n",
              "26           0.40         20                          0.3      0.213228"
            ],
            "text/html": [
              "\n",
              "  <div id=\"df-b0396fb0-dc36-456e-b84c-b619c60a041e\" class=\"colab-df-container\">\n",
              "    <div>\n",
              "<style scoped>\n",
              "    .dataframe tbody tr th:only-of-type {\n",
              "        vertical-align: middle;\n",
              "    }\n",
              "\n",
              "    .dataframe tbody tr th {\n",
              "        vertical-align: top;\n",
              "    }\n",
              "\n",
              "    .dataframe thead th {\n",
              "        text-align: right;\n",
              "    }\n",
              "</style>\n",
              "<table border=\"1\" class=\"dataframe\">\n",
              "  <thead>\n",
              "    <tr style=\"text-align: right;\">\n",
              "      <th></th>\n",
              "      <th>interest rate</th>\n",
              "      <th>loan life</th>\n",
              "      <th>initial deafult probability</th>\n",
              "      <th>expected IRR</th>\n",
              "    </tr>\n",
              "  </thead>\n",
              "  <tbody>\n",
              "    <tr>\n",
              "      <th>0</th>\n",
              "      <td>0.30</td>\n",
              "      <td>5</td>\n",
              "      <td>0.1</td>\n",
              "      <td>0.116435</td>\n",
              "    </tr>\n",
              "    <tr>\n",
              "      <th>1</th>\n",
              "      <td>0.30</td>\n",
              "      <td>5</td>\n",
              "      <td>0.2</td>\n",
              "      <td>0.065291</td>\n",
              "    </tr>\n",
              "    <tr>\n",
              "      <th>2</th>\n",
              "      <td>0.30</td>\n",
              "      <td>5</td>\n",
              "      <td>0.3</td>\n",
              "      <td>0.023710</td>\n",
              "    </tr>\n",
              "    <tr>\n",
              "      <th>3</th>\n",
              "      <td>0.30</td>\n",
              "      <td>10</td>\n",
              "      <td>0.1</td>\n",
              "      <td>0.215944</td>\n",
              "    </tr>\n",
              "    <tr>\n",
              "      <th>4</th>\n",
              "      <td>0.30</td>\n",
              "      <td>10</td>\n",
              "      <td>0.2</td>\n",
              "      <td>0.172094</td>\n",
              "    </tr>\n",
              "    <tr>\n",
              "      <th>5</th>\n",
              "      <td>0.30</td>\n",
              "      <td>10</td>\n",
              "      <td>0.3</td>\n",
              "      <td>0.114876</td>\n",
              "    </tr>\n",
              "    <tr>\n",
              "      <th>6</th>\n",
              "      <td>0.30</td>\n",
              "      <td>20</td>\n",
              "      <td>0.1</td>\n",
              "      <td>0.237639</td>\n",
              "    </tr>\n",
              "    <tr>\n",
              "      <th>7</th>\n",
              "      <td>0.30</td>\n",
              "      <td>20</td>\n",
              "      <td>0.2</td>\n",
              "      <td>0.182053</td>\n",
              "    </tr>\n",
              "    <tr>\n",
              "      <th>8</th>\n",
              "      <td>0.30</td>\n",
              "      <td>20</td>\n",
              "      <td>0.3</td>\n",
              "      <td>0.136574</td>\n",
              "    </tr>\n",
              "    <tr>\n",
              "      <th>9</th>\n",
              "      <td>0.35</td>\n",
              "      <td>5</td>\n",
              "      <td>0.1</td>\n",
              "      <td>0.167570</td>\n",
              "    </tr>\n",
              "    <tr>\n",
              "      <th>10</th>\n",
              "      <td>0.35</td>\n",
              "      <td>5</td>\n",
              "      <td>0.2</td>\n",
              "      <td>0.113431</td>\n",
              "    </tr>\n",
              "    <tr>\n",
              "      <th>11</th>\n",
              "      <td>0.35</td>\n",
              "      <td>5</td>\n",
              "      <td>0.3</td>\n",
              "      <td>0.068706</td>\n",
              "    </tr>\n",
              "    <tr>\n",
              "      <th>12</th>\n",
              "      <td>0.35</td>\n",
              "      <td>10</td>\n",
              "      <td>0.1</td>\n",
              "      <td>0.271475</td>\n",
              "    </tr>\n",
              "    <tr>\n",
              "      <th>13</th>\n",
              "      <td>0.35</td>\n",
              "      <td>10</td>\n",
              "      <td>0.2</td>\n",
              "      <td>0.205969</td>\n",
              "    </tr>\n",
              "    <tr>\n",
              "      <th>14</th>\n",
              "      <td>0.35</td>\n",
              "      <td>10</td>\n",
              "      <td>0.3</td>\n",
              "      <td>0.146365</td>\n",
              "    </tr>\n",
              "    <tr>\n",
              "      <th>15</th>\n",
              "      <td>0.35</td>\n",
              "      <td>20</td>\n",
              "      <td>0.1</td>\n",
              "      <td>0.285338</td>\n",
              "    </tr>\n",
              "    <tr>\n",
              "      <th>16</th>\n",
              "      <td>0.35</td>\n",
              "      <td>20</td>\n",
              "      <td>0.2</td>\n",
              "      <td>0.222282</td>\n",
              "    </tr>\n",
              "    <tr>\n",
              "      <th>17</th>\n",
              "      <td>0.35</td>\n",
              "      <td>20</td>\n",
              "      <td>0.3</td>\n",
              "      <td>0.185550</td>\n",
              "    </tr>\n",
              "    <tr>\n",
              "      <th>18</th>\n",
              "      <td>0.40</td>\n",
              "      <td>5</td>\n",
              "      <td>0.1</td>\n",
              "      <td>0.223563</td>\n",
              "    </tr>\n",
              "    <tr>\n",
              "      <th>19</th>\n",
              "      <td>0.40</td>\n",
              "      <td>5</td>\n",
              "      <td>0.2</td>\n",
              "      <td>0.159821</td>\n",
              "    </tr>\n",
              "    <tr>\n",
              "      <th>20</th>\n",
              "      <td>0.40</td>\n",
              "      <td>5</td>\n",
              "      <td>0.3</td>\n",
              "      <td>0.106615</td>\n",
              "    </tr>\n",
              "    <tr>\n",
              "      <th>21</th>\n",
              "      <td>0.40</td>\n",
              "      <td>10</td>\n",
              "      <td>0.1</td>\n",
              "      <td>0.312350</td>\n",
              "    </tr>\n",
              "    <tr>\n",
              "      <th>22</th>\n",
              "      <td>0.40</td>\n",
              "      <td>10</td>\n",
              "      <td>0.2</td>\n",
              "      <td>0.247255</td>\n",
              "    </tr>\n",
              "    <tr>\n",
              "      <th>23</th>\n",
              "      <td>0.40</td>\n",
              "      <td>10</td>\n",
              "      <td>0.3</td>\n",
              "      <td>0.184093</td>\n",
              "    </tr>\n",
              "    <tr>\n",
              "      <th>24</th>\n",
              "      <td>0.40</td>\n",
              "      <td>20</td>\n",
              "      <td>0.1</td>\n",
              "      <td>0.333162</td>\n",
              "    </tr>\n",
              "    <tr>\n",
              "      <th>25</th>\n",
              "      <td>0.40</td>\n",
              "      <td>20</td>\n",
              "      <td>0.2</td>\n",
              "      <td>0.282140</td>\n",
              "    </tr>\n",
              "    <tr>\n",
              "      <th>26</th>\n",
              "      <td>0.40</td>\n",
              "      <td>20</td>\n",
              "      <td>0.3</td>\n",
              "      <td>0.213228</td>\n",
              "    </tr>\n",
              "  </tbody>\n",
              "</table>\n",
              "</div>\n",
              "    <div class=\"colab-df-buttons\">\n",
              "\n",
              "  <div class=\"colab-df-container\">\n",
              "    <button class=\"colab-df-convert\" onclick=\"convertToInteractive('df-b0396fb0-dc36-456e-b84c-b619c60a041e')\"\n",
              "            title=\"Convert this dataframe to an interactive table.\"\n",
              "            style=\"display:none;\">\n",
              "\n",
              "  <svg xmlns=\"http://www.w3.org/2000/svg\" height=\"24px\" viewBox=\"0 -960 960 960\">\n",
              "    <path d=\"M120-120v-720h720v720H120Zm60-500h600v-160H180v160Zm220 220h160v-160H400v160Zm0 220h160v-160H400v160ZM180-400h160v-160H180v160Zm440 0h160v-160H620v160ZM180-180h160v-160H180v160Zm440 0h160v-160H620v160Z\"/>\n",
              "  </svg>\n",
              "    </button>\n",
              "\n",
              "  <style>\n",
              "    .colab-df-container {\n",
              "      display:flex;\n",
              "      gap: 12px;\n",
              "    }\n",
              "\n",
              "    .colab-df-convert {\n",
              "      background-color: #E8F0FE;\n",
              "      border: none;\n",
              "      border-radius: 50%;\n",
              "      cursor: pointer;\n",
              "      display: none;\n",
              "      fill: #1967D2;\n",
              "      height: 32px;\n",
              "      padding: 0 0 0 0;\n",
              "      width: 32px;\n",
              "    }\n",
              "\n",
              "    .colab-df-convert:hover {\n",
              "      background-color: #E2EBFA;\n",
              "      box-shadow: 0px 1px 2px rgba(60, 64, 67, 0.3), 0px 1px 3px 1px rgba(60, 64, 67, 0.15);\n",
              "      fill: #174EA6;\n",
              "    }\n",
              "\n",
              "    .colab-df-buttons div {\n",
              "      margin-bottom: 4px;\n",
              "    }\n",
              "\n",
              "    [theme=dark] .colab-df-convert {\n",
              "      background-color: #3B4455;\n",
              "      fill: #D2E3FC;\n",
              "    }\n",
              "\n",
              "    [theme=dark] .colab-df-convert:hover {\n",
              "      background-color: #434B5C;\n",
              "      box-shadow: 0px 1px 3px 1px rgba(0, 0, 0, 0.15);\n",
              "      filter: drop-shadow(0px 1px 2px rgba(0, 0, 0, 0.3));\n",
              "      fill: #FFFFFF;\n",
              "    }\n",
              "  </style>\n",
              "\n",
              "    <script>\n",
              "      const buttonEl =\n",
              "        document.querySelector('#df-b0396fb0-dc36-456e-b84c-b619c60a041e button.colab-df-convert');\n",
              "      buttonEl.style.display =\n",
              "        google.colab.kernel.accessAllowed ? 'block' : 'none';\n",
              "\n",
              "      async function convertToInteractive(key) {\n",
              "        const element = document.querySelector('#df-b0396fb0-dc36-456e-b84c-b619c60a041e');\n",
              "        const dataTable =\n",
              "          await google.colab.kernel.invokeFunction('convertToInteractive',\n",
              "                                                    [key], {});\n",
              "        if (!dataTable) return;\n",
              "\n",
              "        const docLinkHtml = 'Like what you see? Visit the ' +\n",
              "          '<a target=\"_blank\" href=https://colab.research.google.com/notebooks/data_table.ipynb>data table notebook</a>'\n",
              "          + ' to learn more about interactive tables.';\n",
              "        element.innerHTML = '';\n",
              "        dataTable['output_type'] = 'display_data';\n",
              "        await google.colab.output.renderOutput(dataTable, element);\n",
              "        const docLink = document.createElement('div');\n",
              "        docLink.innerHTML = docLinkHtml;\n",
              "        element.appendChild(docLink);\n",
              "      }\n",
              "    </script>\n",
              "  </div>\n",
              "\n",
              "\n",
              "<div id=\"df-a8e7bdf7-5151-4056-9f2f-13b2100fa115\">\n",
              "  <button class=\"colab-df-quickchart\" onclick=\"quickchart('df-a8e7bdf7-5151-4056-9f2f-13b2100fa115')\"\n",
              "            title=\"Suggest charts\"\n",
              "            style=\"display:none;\">\n",
              "\n",
              "<svg xmlns=\"http://www.w3.org/2000/svg\" height=\"24px\"viewBox=\"0 0 24 24\"\n",
              "     width=\"24px\">\n",
              "    <g>\n",
              "        <path d=\"M19 3H5c-1.1 0-2 .9-2 2v14c0 1.1.9 2 2 2h14c1.1 0 2-.9 2-2V5c0-1.1-.9-2-2-2zM9 17H7v-7h2v7zm4 0h-2V7h2v10zm4 0h-2v-4h2v4z\"/>\n",
              "    </g>\n",
              "</svg>\n",
              "  </button>\n",
              "\n",
              "<style>\n",
              "  .colab-df-quickchart {\n",
              "      --bg-color: #E8F0FE;\n",
              "      --fill-color: #1967D2;\n",
              "      --hover-bg-color: #E2EBFA;\n",
              "      --hover-fill-color: #174EA6;\n",
              "      --disabled-fill-color: #AAA;\n",
              "      --disabled-bg-color: #DDD;\n",
              "  }\n",
              "\n",
              "  [theme=dark] .colab-df-quickchart {\n",
              "      --bg-color: #3B4455;\n",
              "      --fill-color: #D2E3FC;\n",
              "      --hover-bg-color: #434B5C;\n",
              "      --hover-fill-color: #FFFFFF;\n",
              "      --disabled-bg-color: #3B4455;\n",
              "      --disabled-fill-color: #666;\n",
              "  }\n",
              "\n",
              "  .colab-df-quickchart {\n",
              "    background-color: var(--bg-color);\n",
              "    border: none;\n",
              "    border-radius: 50%;\n",
              "    cursor: pointer;\n",
              "    display: none;\n",
              "    fill: var(--fill-color);\n",
              "    height: 32px;\n",
              "    padding: 0;\n",
              "    width: 32px;\n",
              "  }\n",
              "\n",
              "  .colab-df-quickchart:hover {\n",
              "    background-color: var(--hover-bg-color);\n",
              "    box-shadow: 0 1px 2px rgba(60, 64, 67, 0.3), 0 1px 3px 1px rgba(60, 64, 67, 0.15);\n",
              "    fill: var(--button-hover-fill-color);\n",
              "  }\n",
              "\n",
              "  .colab-df-quickchart-complete:disabled,\n",
              "  .colab-df-quickchart-complete:disabled:hover {\n",
              "    background-color: var(--disabled-bg-color);\n",
              "    fill: var(--disabled-fill-color);\n",
              "    box-shadow: none;\n",
              "  }\n",
              "\n",
              "  .colab-df-spinner {\n",
              "    border: 2px solid var(--fill-color);\n",
              "    border-color: transparent;\n",
              "    border-bottom-color: var(--fill-color);\n",
              "    animation:\n",
              "      spin 1s steps(1) infinite;\n",
              "  }\n",
              "\n",
              "  @keyframes spin {\n",
              "    0% {\n",
              "      border-color: transparent;\n",
              "      border-bottom-color: var(--fill-color);\n",
              "      border-left-color: var(--fill-color);\n",
              "    }\n",
              "    20% {\n",
              "      border-color: transparent;\n",
              "      border-left-color: var(--fill-color);\n",
              "      border-top-color: var(--fill-color);\n",
              "    }\n",
              "    30% {\n",
              "      border-color: transparent;\n",
              "      border-left-color: var(--fill-color);\n",
              "      border-top-color: var(--fill-color);\n",
              "      border-right-color: var(--fill-color);\n",
              "    }\n",
              "    40% {\n",
              "      border-color: transparent;\n",
              "      border-right-color: var(--fill-color);\n",
              "      border-top-color: var(--fill-color);\n",
              "    }\n",
              "    60% {\n",
              "      border-color: transparent;\n",
              "      border-right-color: var(--fill-color);\n",
              "    }\n",
              "    80% {\n",
              "      border-color: transparent;\n",
              "      border-right-color: var(--fill-color);\n",
              "      border-bottom-color: var(--fill-color);\n",
              "    }\n",
              "    90% {\n",
              "      border-color: transparent;\n",
              "      border-bottom-color: var(--fill-color);\n",
              "    }\n",
              "  }\n",
              "</style>\n",
              "\n",
              "  <script>\n",
              "    async function quickchart(key) {\n",
              "      const quickchartButtonEl =\n",
              "        document.querySelector('#' + key + ' button');\n",
              "      quickchartButtonEl.disabled = true;  // To prevent multiple clicks.\n",
              "      quickchartButtonEl.classList.add('colab-df-spinner');\n",
              "      try {\n",
              "        const charts = await google.colab.kernel.invokeFunction(\n",
              "            'suggestCharts', [key], {});\n",
              "      } catch (error) {\n",
              "        console.error('Error during call to suggestCharts:', error);\n",
              "      }\n",
              "      quickchartButtonEl.classList.remove('colab-df-spinner');\n",
              "      quickchartButtonEl.classList.add('colab-df-quickchart-complete');\n",
              "    }\n",
              "    (() => {\n",
              "      let quickchartButtonEl =\n",
              "        document.querySelector('#df-a8e7bdf7-5151-4056-9f2f-13b2100fa115 button');\n",
              "      quickchartButtonEl.style.display =\n",
              "        google.colab.kernel.accessAllowed ? 'block' : 'none';\n",
              "    })();\n",
              "  </script>\n",
              "</div>\n",
              "\n",
              "  <div id=\"id_d693fc94-baa6-493e-b13e-f7001394d127\">\n",
              "    <style>\n",
              "      .colab-df-generate {\n",
              "        background-color: #E8F0FE;\n",
              "        border: none;\n",
              "        border-radius: 50%;\n",
              "        cursor: pointer;\n",
              "        display: none;\n",
              "        fill: #1967D2;\n",
              "        height: 32px;\n",
              "        padding: 0 0 0 0;\n",
              "        width: 32px;\n",
              "      }\n",
              "\n",
              "      .colab-df-generate:hover {\n",
              "        background-color: #E2EBFA;\n",
              "        box-shadow: 0px 1px 2px rgba(60, 64, 67, 0.3), 0px 1px 3px 1px rgba(60, 64, 67, 0.15);\n",
              "        fill: #174EA6;\n",
              "      }\n",
              "\n",
              "      [theme=dark] .colab-df-generate {\n",
              "        background-color: #3B4455;\n",
              "        fill: #D2E3FC;\n",
              "      }\n",
              "\n",
              "      [theme=dark] .colab-df-generate:hover {\n",
              "        background-color: #434B5C;\n",
              "        box-shadow: 0px 1px 3px 1px rgba(0, 0, 0, 0.15);\n",
              "        filter: drop-shadow(0px 1px 2px rgba(0, 0, 0, 0.3));\n",
              "        fill: #FFFFFF;\n",
              "      }\n",
              "    </style>\n",
              "    <button class=\"colab-df-generate\" onclick=\"generateWithVariable('df_discrete')\"\n",
              "            title=\"Generate code using this dataframe.\"\n",
              "            style=\"display:none;\">\n",
              "\n",
              "  <svg xmlns=\"http://www.w3.org/2000/svg\" height=\"24px\"viewBox=\"0 0 24 24\"\n",
              "       width=\"24px\">\n",
              "    <path d=\"M7,19H8.4L18.45,9,17,7.55,7,17.6ZM5,21V16.75L18.45,3.32a2,2,0,0,1,2.83,0l1.4,1.43a1.91,1.91,0,0,1,.58,1.4,1.91,1.91,0,0,1-.58,1.4L9.25,21ZM18.45,9,17,7.55Zm-12,3A5.31,5.31,0,0,0,4.9,8.1,5.31,5.31,0,0,0,1,6.5,5.31,5.31,0,0,0,4.9,4.9,5.31,5.31,0,0,0,6.5,1,5.31,5.31,0,0,0,8.1,4.9,5.31,5.31,0,0,0,12,6.5,5.46,5.46,0,0,0,6.5,12Z\"/>\n",
              "  </svg>\n",
              "    </button>\n",
              "    <script>\n",
              "      (() => {\n",
              "      const buttonEl =\n",
              "        document.querySelector('#id_d693fc94-baa6-493e-b13e-f7001394d127 button.colab-df-generate');\n",
              "      buttonEl.style.display =\n",
              "        google.colab.kernel.accessAllowed ? 'block' : 'none';\n",
              "\n",
              "      buttonEl.onclick = () => {\n",
              "        google.colab.notebook.generateWithVariable('df_discrete');\n",
              "      }\n",
              "      })();\n",
              "    </script>\n",
              "  </div>\n",
              "\n",
              "    </div>\n",
              "  </div>\n"
            ],
            "application/vnd.google.colaboratory.intrinsic+json": {
              "type": "dataframe",
              "variable_name": "df_discrete",
              "summary": "{\n  \"name\": \"df_discrete\",\n  \"rows\": 27,\n  \"fields\": [\n    {\n      \"column\": \"interest rate\",\n      \"properties\": {\n        \"dtype\": \"number\",\n        \"std\": 0.04160251471689219,\n        \"min\": 0.3,\n        \"max\": 0.4,\n        \"samples\": [\n          0.3,\n          0.35,\n          0.4\n        ],\n        \"num_unique_values\": 3,\n        \"semantic_type\": \"\",\n        \"description\": \"\"\n      }\n    },\n    {\n      \"column\": \"loan life\",\n      \"properties\": {\n        \"dtype\": \"number\",\n        \"std\": 6,\n        \"min\": 5,\n        \"max\": 20,\n        \"samples\": [\n          5,\n          10,\n          20\n        ],\n        \"num_unique_values\": 3,\n        \"semantic_type\": \"\",\n        \"description\": \"\"\n      }\n    },\n    {\n      \"column\": \"initial deafult probability\",\n      \"properties\": {\n        \"dtype\": \"number\",\n        \"std\": 0.08320502943378437,\n        \"min\": 0.1,\n        \"max\": 0.3,\n        \"samples\": [\n          0.1,\n          0.2,\n          0.3\n        ],\n        \"num_unique_values\": 3,\n        \"semantic_type\": \"\",\n        \"description\": \"\"\n      }\n    },\n    {\n      \"column\": \"expected IRR\",\n      \"properties\": {\n        \"dtype\": \"number\",\n        \"std\": 0.07760234350970428,\n        \"min\": 0.023710492901173344,\n        \"max\": 0.3331620022058937,\n        \"samples\": [\n          0.13657417418876114,\n          0.20596926422711334,\n          0.16757024963886757\n        ],\n        \"num_unique_values\": 27,\n        \"semantic_type\": \"\",\n        \"description\": \"\"\n      }\n    }\n  ]\n}"
            }
          },
          "metadata": {},
          "execution_count": 37
        }
      ]
    },
    {
      "cell_type": "code",
      "source": [
        "yearSubsets"
      ],
      "metadata": {
        "colab": {
          "base_uri": "https://localhost:8080/"
        },
        "id": "PmlVWKagjZSW",
        "outputId": "b3e561d3-ab0b-4279-caad-cd5b207bcda1"
      },
      "execution_count": 46,
      "outputs": [
        {
          "output_type": "execute_result",
          "data": {
            "text/plain": [
              "[    interest rate  loan life  initial deafult probability  expected IRR\n",
              " 0            0.30          5                          0.1      0.116435\n",
              " 1            0.30          5                          0.2      0.065291\n",
              " 2            0.30          5                          0.3      0.023710\n",
              " 9            0.35          5                          0.1      0.167570\n",
              " 10           0.35          5                          0.2      0.113431\n",
              " 11           0.35          5                          0.3      0.068706\n",
              " 18           0.40          5                          0.1      0.223563\n",
              " 19           0.40          5                          0.2      0.159821\n",
              " 20           0.40          5                          0.3      0.106615,\n",
              "     interest rate  loan life  initial deafult probability  expected IRR\n",
              " 3            0.30         10                          0.1      0.215944\n",
              " 4            0.30         10                          0.2      0.172094\n",
              " 5            0.30         10                          0.3      0.114876\n",
              " 12           0.35         10                          0.1      0.271475\n",
              " 13           0.35         10                          0.2      0.205969\n",
              " 14           0.35         10                          0.3      0.146365\n",
              " 21           0.40         10                          0.1      0.312350\n",
              " 22           0.40         10                          0.2      0.247255\n",
              " 23           0.40         10                          0.3      0.184093,\n",
              "     interest rate  loan life  initial deafult probability  expected IRR\n",
              " 6            0.30         20                          0.1      0.237639\n",
              " 7            0.30         20                          0.2      0.182053\n",
              " 8            0.30         20                          0.3      0.136574\n",
              " 15           0.35         20                          0.1      0.285338\n",
              " 16           0.35         20                          0.2      0.222282\n",
              " 17           0.35         20                          0.3      0.185550\n",
              " 24           0.40         20                          0.1      0.333162\n",
              " 25           0.40         20                          0.2      0.282140\n",
              " 26           0.40         20                          0.3      0.213228]"
            ]
          },
          "metadata": {},
          "execution_count": 46
        }
      ]
    },
    {
      "cell_type": "code",
      "source": [
        "years = [5, 10, 20]\n",
        "yearSubsets = []\n",
        "rateAvgDict = {}\n",
        "\n",
        "# isolate year data into seperate dfs\n",
        "for year in years:\n",
        "  yearSubsets.append(df_discrete[df_discrete[\"loan life\"] == year])\n",
        "  rateAvgs = []\n",
        "\n",
        "# extract avg expect IRR per interest rate\n",
        "for year in range(len(yearSubsets)):\n",
        "\n",
        "  for rate in [0.3, 0.35, 0.4]:\n",
        "    rateSubset = yearSubsets[year][yearSubsets[year][\"interest rate\"] == rate]\n",
        "    rateAvgDict[(years[year], rate)] = float(rateSubset[\"expected IRR\"].mean())\n",
        "\n",
        "rateAvgDict"
      ],
      "metadata": {
        "colab": {
          "base_uri": "https://localhost:8080/"
        },
        "id": "OaE9ULwXcdCT",
        "outputId": "8bfda010-e146-44e9-ff9f-803d6c4263ed"
      },
      "execution_count": 59,
      "outputs": [
        {
          "output_type": "execute_result",
          "data": {
            "text/plain": [
              "{(5, 0.3): 0.06847863512093662,\n",
              " (5, 0.35): 0.11656905338349167,\n",
              " (5, 0.4): 0.1633332511962089,\n",
              " (10, 0.3): 0.16763772588059234,\n",
              " (10, 0.35): 0.20793640453947826,\n",
              " (10, 0.4): 0.24789930826301418,\n",
              " (20, 0.3): 0.18542221502876036,\n",
              " (20, 0.35): 0.2310566175870217,\n",
              " (20, 0.4): 0.27617690174690246}"
            ]
          },
          "metadata": {},
          "execution_count": 59
        }
      ]
    },
    {
      "cell_type": "code",
      "source": [
        "fig, ax = plt.subplots()\n",
        "\n",
        "for tup in [(5, 0.3), (10, 0.3), (20, 0.3)]:\n",
        "  ax.bar( tup[0], rateAvgDict[tup], width = 1)\n",
        "\n",
        "plt.title(\"0.3\")\n",
        "plt.ylabel(\"irr\")\n",
        "plt.xlabel(\"loan life\")"
      ],
      "metadata": {
        "colab": {
          "base_uri": "https://localhost:8080/",
          "height": 489
        },
        "id": "R1N9hdJimbZe",
        "outputId": "52a5832a-d2ba-4cf9-c28e-b2b7e2db0660"
      },
      "execution_count": 69,
      "outputs": [
        {
          "output_type": "execute_result",
          "data": {
            "text/plain": [
              "Text(0.5, 0, 'loan life')"
            ]
          },
          "metadata": {},
          "execution_count": 69
        },
        {
          "output_type": "display_data",
          "data": {
            "text/plain": [
              "<Figure size 640x480 with 1 Axes>"
            ],
            "image/png": "[encoded data removed]"
          },
          "metadata": {}
        }
      ]
    },
    {
      "cell_type": "code",
      "source": [
        "fig, ax = plt.subplots()\n",
        "\n",
        "for tup in [(5, 0.35), (10, 0.35), (20, 0.35)]:\n",
        "  ax.bar( tup[0], rateAvgDict[tup], width = 1)\n",
        "\n",
        "plt.title(\"0.35\")\n",
        "plt.ylabel(\"irr\")\n",
        "plt.xlabel(\"loan life\")"
      ],
      "metadata": {
        "colab": {
          "base_uri": "https://localhost:8080/",
          "height": 489
        },
        "id": "vpsXWKTFo_Nj",
        "outputId": "88f8f0ef-f1f6-45a9-a9d3-72fa68709ac8"
      },
      "execution_count": 71,
      "outputs": [
        {
          "output_type": "execute_result",
          "data": {
            "text/plain": [
              "Text(0.5, 0, 'loan life')"
            ]
          },
          "metadata": {},
          "execution_count": 71
        },
        {
          "output_type": "display_data",
          "data": {
            "text/plain": [
              "<Figure size 640x480 with 1 Axes>"
            ],
            "image/png": "[encoded data removed]"
          },
          "metadata": {}
        }
      ]
    },
    {
      "cell_type": "code",
      "source": [
        "fig, ax = plt.subplots()\n",
        "\n",
        "for tup in [(5, 0.4), (10, 0.4), (20, 0.4)]:\n",
        "  ax.bar( tup[0], rateAvgDict[tup], width = 1)\n",
        "\n",
        "plt.title(\"0.4\")\n",
        "plt.ylabel(\"irr\")\n",
        "plt.xlabel(\"loan life\")"
      ],
      "metadata": {
        "colab": {
          "base_uri": "https://localhost:8080/",
          "height": 489
        },
        "id": "R50LSAdopEhr",
        "outputId": "5c4d5e44-0987-46b2-88d7-da5990161f6e"
      },
      "execution_count": 73,
      "outputs": [
        {
          "output_type": "execute_result",
          "data": {
            "text/plain": [
              "Text(0.5, 0, 'loan life')"
            ]
          },
          "metadata": {},
          "execution_count": 73
        },
        {
          "output_type": "display_data",
          "data": {
            "text/plain": [
              "<Figure size 640x480 with 1 Axes>"
            ],
            "image/png": "[encoded data removed]"
          },
          "metadata": {}
        }
      ]
    },
    {
      "cell_type": "code",
      "execution_count": null,
      "metadata": {
        "id": "nIUo6kUDky5E"
      },
      "outputs": [],
      "source": [
        "# Insert your main model inbetween the inputs and output blocks"
      ]
    },
    {
      "cell_type": "code",
      "execution_count": null,
      "metadata": {
        "id": "aCNmXwd9ky5F"
      },
      "outputs": [],
      "source": [
        "# Main answer should be a DataFrame with columns of ['Interest Rate', 'Loan Life', 'Initial Default Probability', 'IRR']\n",
        "# The IRR is the expected IRR across all the default cases for the interest rate,\n",
        "# loan life, and initial default probability in that row\n",
        "# Be sure to save this into irr_df\n",
        "irr_df ="
      ]
    }
  ],
  "metadata": {
    "kernelspec": {
      "display_name": "Python 3",
      "language": "python",
      "name": "python3"
    },
    "language_info": {
      "codemirror_mode": {
        "name": "ipython",
        "version": 3
      },
      "file_extension": ".py",
      "mimetype": "text/x-python",
      "name": "python",
      "nbconvert_exporter": "python",
      "pygments_lexer": "ipython3",
      "version": "3.7.4"
    },
    "colab": {
      "provenance": [],
      "include_colab_link": true
    },
    "widgets": {
      "application/vnd.jupyter.widget-state+json": {
        "718b95d638d24c4f84058202d1a0a298": {
          "model_module": "@jupyter-widgets/controls",
          "model_name": "HBoxModel",
          "model_module_version": "1.5.0",
          "state": {
            "_dom_classes": [],
            "_model_module": "@jupyter-widgets/controls",
            "_model_module_version": "1.5.0",
            "_model_name": "HBoxModel",
            "_view_count": null,
            "_view_module": "@jupyter-widgets/controls",
            "_view_module_version": "1.5.0",
            "_view_name": "HBoxView",
            "box_style": "",
            "children": [
              "IPY_MODEL_fd47fae4848345beac0ef398b15b2dce",
              "IPY_MODEL_414bfc38b07a47da9346c985244f932c",
              "IPY_MODEL_f52391b26a9543fa8e514a7a390d073f"
            ],
            "layout": "IPY_MODEL_eb23684530bd4c70bed969a905c9abb6"
          }
        },
        "fd47fae4848345beac0ef398b15b2dce": {
          "model_module": "@jupyter-widgets/controls",
          "model_name": "HTMLModel",
          "model_module_version": "1.5.0",
          "state": {
            "_dom_classes": [],
            "_model_module": "@jupyter-widgets/controls",
            "_model_module_version": "1.5.0",
            "_model_name": "HTMLModel",
            "_view_count": null,
            "_view_module": "@jupyter-widgets/controls",
            "_view_module_version": "1.5.0",
            "_view_name": "HTMLView",
            "description": "",
            "description_tooltip": null,
            "layout": "IPY_MODEL_0b6662f869d14852a6475e235270e5f1",
            "placeholder": "​",
            "style": "IPY_MODEL_3b60a581058748e59938d91389ddd802",
            "value": "Simulating Loan Scenarios: 100%"
          }
        },
        "414bfc38b07a47da9346c985244f932c": {
          "model_module": "@jupyter-widgets/controls",
          "model_name": "FloatProgressModel",
          "model_module_version": "1.5.0",
          "state": {
            "_dom_classes": [],
            "_model_module": "@jupyter-widgets/controls",
            "_model_module_version": "1.5.0",
            "_model_name": "FloatProgressModel",
            "_view_count": null,
            "_view_module": "@jupyter-widgets/controls",
            "_view_module_version": "1.5.0",
            "_view_name": "ProgressView",
            "bar_style": "success",
            "description": "",
            "description_tooltip": null,
            "layout": "IPY_MODEL_02c35239a46d4b74b76987320d64c7df",
            "max": 27000,
            "min": 0,
            "orientation": "horizontal",
            "style": "IPY_MODEL_96495f1b065d42f994bcb8a363b78374",
            "value": 27000
          }
        },
        "f52391b26a9543fa8e514a7a390d073f": {
          "model_module": "@jupyter-widgets/controls",
          "model_name": "HTMLModel",
          "model_module_version": "1.5.0",
          "state": {
            "_dom_classes": [],
            "_model_module": "@jupyter-widgets/controls",
            "_model_module_version": "1.5.0",
            "_model_name": "HTMLModel",
            "_view_count": null,
            "_view_module": "@jupyter-widgets/controls",
            "_view_module_version": "1.5.0",
            "_view_name": "HTMLView",
            "description": "",
            "description_tooltip": null,
            "layout": "IPY_MODEL_dd21842744104e04aae47f8df3bd1b46",
            "placeholder": "​",
            "style": "IPY_MODEL_3e25d300272f467d9f8387541398be8c",
            "value": " 27000/27000 [00:04&lt;00:00, 4402.33it/s]"
          }
        },
        "eb23684530bd4c70bed969a905c9abb6": {
          "model_module": "@jupyter-widgets/base",
          "model_name": "LayoutModel",
          "model_module_version": "1.2.0",
          "state": {
            "_model_module": "@jupyter-widgets/base",
            "_model_module_version": "1.2.0",
            "_model_name": "LayoutModel",
            "_view_count": null,
            "_view_module": "@jupyter-widgets/base",
            "_view_module_version": "1.2.0",
            "_view_name": "LayoutView",
            "align_content": null,
            "align_items": null,
            "align_self": null,
            "border": null,
            "bottom": null,
            "display": null,
            "flex": null,
            "flex_flow": null,
            "grid_area": null,
            "grid_auto_columns": null,
            "grid_auto_flow": null,
            "grid_auto_rows": null,
            "grid_column": null,
            "grid_gap": null,
            "grid_row": null,
            "grid_template_areas": null,
            "grid_template_columns": null,
            "grid_template_rows": null,
            "height": null,
            "justify_content": null,
            "justify_items": null,
            "left": null,
            "margin": null,
            "max_height": null,
            "max_width": null,
            "min_height": null,
            "min_width": null,
            "object_fit": null,
            "object_position": null,
            "order": null,
            "overflow": null,
            "overflow_x": null,
            "overflow_y": null,
            "padding": null,
            "right": null,
            "top": null,
            "visibility": null,
            "width": null
          }
        },
        "0b6662f869d14852a6475e235270e5f1": {
          "model_module": "@jupyter-widgets/base",
          "model_name": "LayoutModel",
          "model_module_version": "1.2.0",
          "state": {
            "_model_module": "@jupyter-widgets/base",
            "_model_module_version": "1.2.0",
            "_model_name": "LayoutModel",
            "_view_count": null,
            "_view_module": "@jupyter-widgets/base",
            "_view_module_version": "1.2.0",
            "_view_name": "LayoutView",
            "align_content": null,
            "align_items": null,
            "align_self": null,
            "border": null,
            "bottom": null,
            "display": null,
            "flex": null,
            "flex_flow": null,
            "grid_area": null,
            "grid_auto_columns": null,
            "grid_auto_flow": null,
            "grid_auto_rows": null,
            "grid_column": null,
            "grid_gap": null,
            "grid_row": null,
            "grid_template_areas": null,
            "grid_template_columns": null,
            "grid_template_rows": null,
            "height": null,
            "justify_content": null,
            "justify_items": null,
            "left": null,
            "margin": null,
            "max_height": null,
            "max_width": null,
            "min_height": null,
            "min_width": null,
            "object_fit": null,
            "object_position": null,
            "order": null,
            "overflow": null,
            "overflow_x": null,
            "overflow_y": null,
            "padding": null,
            "right": null,
            "top": null,
            "visibility": null,
            "width": null
          }
        },
        "3b60a581058748e59938d91389ddd802": {
          "model_module": "@jupyter-widgets/controls",
          "model_name": "DescriptionStyleModel",
          "model_module_version": "1.5.0",
          "state": {
            "_model_module": "@jupyter-widgets/controls",
            "_model_module_version": "1.5.0",
            "_model_name": "DescriptionStyleModel",
            "_view_count": null,
            "_view_module": "@jupyter-widgets/base",
            "_view_module_version": "1.2.0",
            "_view_name": "StyleView",
            "description_width": ""
          }
        },
        "02c35239a46d4b74b76987320d64c7df": {
          "model_module": "@jupyter-widgets/base",
          "model_name": "LayoutModel",
          "model_module_version": "1.2.0",
          "state": {
            "_model_module": "@jupyter-widgets/base",
            "_model_module_version": "1.2.0",
            "_model_name": "LayoutModel",
            "_view_count": null,
            "_view_module": "@jupyter-widgets/base",
            "_view_module_version": "1.2.0",
            "_view_name": "LayoutView",
            "align_content": null,
            "align_items": null,
            "align_self": null,
            "border": null,
            "bottom": null,
            "display": null,
            "flex": null,
            "flex_flow": null,
            "grid_area": null,
            "grid_auto_columns": null,
            "grid_auto_flow": null,
            "grid_auto_rows": null,
            "grid_column": null,
            "grid_gap": null,
            "grid_row": null,
            "grid_template_areas": null,
            "grid_template_columns": null,
            "grid_template_rows": null,
            "height": null,
            "justify_content": null,
            "justify_items": null,
            "left": null,
            "margin": null,
            "max_height": null,
            "max_width": null,
            "min_height": null,
            "min_width": null,
            "object_fit": null,
            "object_position": null,
            "order": null,
            "overflow": null,
            "overflow_x": null,
            "overflow_y": null,
            "padding": null,
            "right": null,
            "top": null,
            "visibility": null,
            "width": null
          }
        },
        "96495f1b065d42f994bcb8a363b78374": {
          "model_module": "@jupyter-widgets/controls",
          "model_name": "ProgressStyleModel",
          "model_module_version": "1.5.0",
          "state": {
            "_model_module": "@jupyter-widgets/controls",
            "_model_module_version": "1.5.0",
            "_model_name": "ProgressStyleModel",
            "_view_count": null,
            "_view_module": "@jupyter-widgets/base",
            "_view_module_version": "1.2.0",
            "_view_name": "StyleView",
            "bar_color": null,
            "description_width": ""
          }
        },
        "dd21842744104e04aae47f8df3bd1b46": {
          "model_module": "@jupyter-widgets/base",
          "model_name": "LayoutModel",
          "model_module_version": "1.2.0",
          "state": {
            "_model_module": "@jupyter-widgets/base",
            "_model_module_version": "1.2.0",
            "_model_name": "LayoutModel",
            "_view_count": null,
            "_view_module": "@jupyter-widgets/base",
            "_view_module_version": "1.2.0",
            "_view_name": "LayoutView",
            "align_content": null,
            "align_items": null,
            "align_self": null,
            "border": null,
            "bottom": null,
            "display": null,
            "flex": null,
            "flex_flow": null,
            "grid_area": null,
            "grid_auto_columns": null,
            "grid_auto_flow": null,
            "grid_auto_rows": null,
            "grid_column": null,
            "grid_gap": null,
            "grid_row": null,
            "grid_template_areas": null,
            "grid_template_columns": null,
            "grid_template_rows": null,
            "height": null,
            "justify_content": null,
            "justify_items": null,
            "left": null,
            "margin": null,
            "max_height": null,
            "max_width": null,
            "min_height": null,
            "min_width": null,
            "object_fit": null,
            "object_position": null,
            "order": null,
            "overflow": null,
            "overflow_x": null,
            "overflow_y": null,
            "padding": null,
            "right": null,
            "top": null,
            "visibility": null,
            "width": null
          }
        },
        "3e25d300272f467d9f8387541398be8c": {
          "model_module": "@jupyter-widgets/controls",
          "model_name": "DescriptionStyleModel",
          "model_module_version": "1.5.0",
          "state": {
            "_model_module": "@jupyter-widgets/controls",
            "_model_module_version": "1.5.0",
            "_model_name": "DescriptionStyleModel",
            "_view_count": null,
            "_view_module": "@jupyter-widgets/base",
            "_view_module_version": "1.2.0",
            "_view_name": "StyleView",
            "description_width": ""
          }
        }
      }
    }
  },
  "nbformat": 4,
  "nbformat_minor": 0
}